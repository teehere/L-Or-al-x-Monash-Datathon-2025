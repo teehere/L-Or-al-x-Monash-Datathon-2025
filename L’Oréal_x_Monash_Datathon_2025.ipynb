{
  "cells": [
    {
      "cell_type": "markdown",
      "metadata": {
        "id": "view-in-github",
        "colab_type": "text"
      },
      "source": [
        "<a href=\"https://colab.research.google.com/github/teehere/L-Or-al-x-Monash-Datathon-2025/blob/main/L%E2%80%99Or%C3%A9al_x_Monash_Datathon_2025.ipynb\" target=\"_parent\"><img src=\"https://colab.research.google.com/assets/colab-badge.svg\" alt=\"Open In Colab\"/></a>"
      ]
    },
    {
      "cell_type": "code",
      "execution_count": null,
      "metadata": {
        "id": "vb1if52aQgMU"
      },
      "outputs": [],
      "source": [
        "import pandas as pd\n",
        "import matplotlib.pyplot as plt\n",
        "import numpy as np\n",
        "import seaborn as sns"
      ]
    },
    {
      "cell_type": "code",
      "execution_count": null,
      "metadata": {
        "colab": {
          "base_uri": "https://localhost:8080/"
        },
        "id": "R8WTSf2aorbO",
        "outputId": "458f34fc-f1c5-407d-a370-4ef67304c139"
      },
      "outputs": [
        {
          "output_type": "stream",
          "name": "stdout",
          "text": [
            "Merged shape: (1000000, 10)\n",
            "              kind  commentId  channelId  videoId  authorId  \\\n",
            "0  youtube#comment    1781382      14492    74288   2032536   \n",
            "1  youtube#comment     289571      14727    79618   3043229   \n",
            "2  youtube#comment     569077       3314    51826    917006   \n",
            "3  youtube#comment    2957962       5008    58298   1853470   \n",
            "4  youtube#comment     673093      21411     1265   2584166   \n",
            "\n",
            "                                        textOriginal  parentCommentId  \\\n",
            "0  PLEASE LESBIAN FLAG I BEG YOU \\n\\nYou would ro...              NaN   \n",
            "1   Apply mashed potato juice and mixed it with curd        3198066.0   \n",
            "2                         69 missed calls from mars👽              NaN   \n",
            "3                                               Baaa              NaN   \n",
            "4    you look like raven from phenomena raven no cap              NaN   \n",
            "\n",
            "   likeCount                publishedAt                  updatedAt  \n",
            "0          0  2023-08-15 21:48:52+00:00  2023-08-15 21:48:52+00:00  \n",
            "1          0  2023-10-02 13:08:22+00:00  2023-10-02 13:08:22+00:00  \n",
            "2          0  2024-05-31 12:03:12+00:00  2024-05-31 12:03:12+00:00  \n",
            "3          0  2024-02-13 15:48:37+00:00  2024-02-13 15:48:37+00:00  \n",
            "4          0  2020-02-15 22:28:44+00:00  2020-02-15 22:28:44+00:00  \n"
          ]
        }
      ],
      "source": [
        "import glob\n",
        "\n",
        "csv_files = glob.glob(\"comments*.csv\")   # matches comments1.csv, comments2.csv,...\n",
        "\n",
        "dfs = [pd.read_csv(f) for f in csv_files]\n",
        "\n",
        "merged_df = pd.concat(dfs, ignore_index=True)\n",
        "\n",
        "# save to a new CSV\n",
        "merged_df.to_csv(\"all_comments.csv\", index=False)"
      ]
    },
    {
      "cell_type": "code",
      "execution_count": null,
      "metadata": {
        "colab": {
          "base_uri": "https://localhost:8080/"
        },
        "id": "3FDi4zVtW1sb",
        "outputId": "82384fd2-35cc-439c-c07b-935a0a8d0479"
      },
      "outputs": [
        {
          "output_type": "stream",
          "name": "stdout",
          "text": [
            "Comments shape: (1000000, 10)\n",
            "              kind  commentId  channelId  videoId  authorId  \\\n",
            "0  youtube#comment    1781382      14492    74288   2032536   \n",
            "1  youtube#comment     289571      14727    79618   3043229   \n",
            "2  youtube#comment     569077       3314    51826    917006   \n",
            "3  youtube#comment    2957962       5008    58298   1853470   \n",
            "4  youtube#comment     673093      21411     1265   2584166   \n",
            "\n",
            "                                        textOriginal  parentCommentId  \\\n",
            "0  PLEASE LESBIAN FLAG I BEG YOU \\n\\nYou would ro...              NaN   \n",
            "1   Apply mashed potato juice and mixed it with curd        3198066.0   \n",
            "2                         69 missed calls from mars👽              NaN   \n",
            "3                                               Baaa              NaN   \n",
            "4    you look like raven from phenomena raven no cap              NaN   \n",
            "\n",
            "   likeCount                publishedAt                  updatedAt  \n",
            "0          0  2023-08-15 21:48:52+00:00  2023-08-15 21:48:52+00:00  \n",
            "1          0  2023-10-02 13:08:22+00:00  2023-10-02 13:08:22+00:00  \n",
            "2          0  2024-05-31 12:03:12+00:00  2024-05-31 12:03:12+00:00  \n",
            "3          0  2024-02-13 15:48:37+00:00  2024-02-13 15:48:37+00:00  \n",
            "4          0  2020-02-15 22:28:44+00:00  2020-02-15 22:28:44+00:00  \n",
            "\n",
            "Videos shape: (92759, 15)\n",
            "            kind  videoId                publishedAt  channelId  \\\n",
            "0  youtube#video    85806  2024-01-15 00:59:29+00:00      33807   \n",
            "1  youtube#video    30556  2023-10-27 19:32:16+00:00      46650   \n",
            "2  youtube#video    51771  2024-09-28 01:23:22+00:00      14346   \n",
            "3  youtube#video    45298  2023-07-13 15:19:28+00:00      50139   \n",
            "4  youtube#video    43611  2023-04-29 18:47:37+00:00       8143   \n",
            "\n",
            "                                               title description tags  \\\n",
            "0  Unlocking the Benefits of Face Masks for Skin ...         NaN  NaN   \n",
            "1  Get ready for the Magic💚💜🤍💝✨ #hydration #glowi...         NaN  NaN   \n",
            "2  #trending #makeup #beautymakeup #yslbeauty #lu...         NaN  NaN   \n",
            "3                              #shortvedio #balayage         NaN  NaN   \n",
            "4  Full Face of Merit Beauty 🤎 featuring new Flus...         NaN  NaN   \n",
            "\n",
            "  defaultLanguage defaultAudioLanguage contentDuration  viewCount  likeCount  \\\n",
            "0           en-US                en-US            PT9S       72.0        0.0   \n",
            "1             NaN                  NaN           PT45S      257.0        7.0   \n",
            "2             NaN                en-US           PT19S      164.0        4.0   \n",
            "3             NaN                  NaN           PT14S     1207.0       20.0   \n",
            "4             NaN                   en           PT56S     8647.0      268.0   \n",
            "\n",
            "   favouriteCount  commentCount  \\\n",
            "0             0.0           0.0   \n",
            "1             0.0           0.0   \n",
            "2             0.0           2.0   \n",
            "3             0.0           0.0   \n",
            "4             0.0           7.0   \n",
            "\n",
            "                                     topicCategories  \n",
            "0  ['https://en.wikipedia.org/wiki/Health', 'http...  \n",
            "1  ['https://en.wikipedia.org/wiki/Lifestyle_(soc...  \n",
            "2  ['https://en.wikipedia.org/wiki/Lifestyle_(soc...  \n",
            "3  ['https://en.wikipedia.org/wiki/Lifestyle_(soc...  \n",
            "4  ['https://en.wikipedia.org/wiki/Lifestyle_(soc...  \n"
          ]
        }
      ],
      "source": [
        "comments = pd.read_csv(\"all_comments.csv\", engine=\"python\", on_bad_lines=\"skip\")\n",
        "print(\"Comments shape:\", comments.shape)\n",
        "print(comments.head())\n",
        "\n",
        "print()\n",
        "videos = pd.read_csv(\"videos.csv\", engine=\"python\", on_bad_lines=\"skip\")\n",
        "print(\"Videos shape:\", videos.shape)\n",
        "print(videos.head())\n"
      ]
    },
    {
      "cell_type": "code",
      "source": [
        "# install\n",
        "'''\n",
        "!pip install langdetect\n",
        "!pip install deep_translator\n",
        "\n",
        "\n",
        "from langdetect import detect\n",
        "from deep_translator import GoogleTranslator\n",
        "\n",
        "def detect_language(text):\n",
        "    try:\n",
        "        return detect(text) if pd.notnull(text) else \"unknown\"\n",
        "    except:\n",
        "        return \"unknown\"\n",
        "\n",
        "df['language'] = df['textOriginal'].apply(detect_language)\n",
        "print(df[['textOriginal', 'language']].head())\n",
        "\n",
        "\n",
        "def translate_to_english(text):\n",
        "    try:\n",
        "        if pd.notnull(text):\n",
        "            return GoogleTranslator(source='auto', target='en').translate(text)\n",
        "        return \"\"\n",
        "    except:\n",
        "        return \"\"\n",
        "\n",
        " df['text_en'] = df['textOriginal'].apply(translate_to_english)\n",
        "\n",
        " df.to_csv(\"merged_comments_videos.csv\", index=False, encoding=\"utf-8\")'''"
      ],
      "metadata": {
        "id": "OM7saRv7snPe"
      },
      "execution_count": null,
      "outputs": []
    },
    {
      "cell_type": "code",
      "execution_count": null,
      "metadata": {
        "colab": {
          "base_uri": "https://localhost:8080/"
        },
        "id": "XiMbclt_V-D_",
        "outputId": "664a0614-38e6-4783-eedc-bcddb45029ab"
      },
      "outputs": [
        {
          "output_type": "stream",
          "name": "stdout",
          "text": [
            "Merged shape: (1000000, 24)\n",
            "            kind_x  commentId  channelId_x  videoId  authorId  \\\n",
            "0  youtube#comment    1781382        14492    74288   2032536   \n",
            "1  youtube#comment     289571        14727    79618   3043229   \n",
            "2  youtube#comment     569077         3314    51826    917006   \n",
            "3  youtube#comment    2957962         5008    58298   1853470   \n",
            "4  youtube#comment     673093        21411     1265   2584166   \n",
            "\n",
            "                                        textOriginal  parentCommentId  \\\n",
            "0  PLEASE LESBIAN FLAG I BEG YOU \\n\\nYou would ro...              NaN   \n",
            "1   Apply mashed potato juice and mixed it with curd        3198066.0   \n",
            "2                         69 missed calls from mars👽              NaN   \n",
            "3                                               Baaa              NaN   \n",
            "4    you look like raven from phenomena raven no cap              NaN   \n",
            "\n",
            "   likeCount_x              publishedAt_x                  updatedAt  ...  \\\n",
            "0            0  2023-08-15 21:48:52+00:00  2023-08-15 21:48:52+00:00  ...   \n",
            "1            0  2023-10-02 13:08:22+00:00  2023-10-02 13:08:22+00:00  ...   \n",
            "2            0  2024-05-31 12:03:12+00:00  2024-05-31 12:03:12+00:00  ...   \n",
            "3            0  2024-02-13 15:48:37+00:00  2024-02-13 15:48:37+00:00  ...   \n",
            "4            0  2020-02-15 22:28:44+00:00  2020-02-15 22:28:44+00:00  ...   \n",
            "\n",
            "                                         description  \\\n",
            "0                                                NaN   \n",
            "1  5 Foundation Mistakes that Every Girl Should K...   \n",
            "2                 How To Make Small Eyes Look Bigger   \n",
            "3                                                NaN   \n",
            "4  Today on Black Girl Tries we are trying Kylie ...   \n",
            "\n",
            "                                                tags  defaultLanguage  \\\n",
            "0                                                NaN              NaN   \n",
            "1  ['makeup mistakes to avoid', 'common makeup mi...              NaN   \n",
            "2  ['How To Make Small Eyes Look Bigger', 'eye ma...              NaN   \n",
            "3                                                NaN               en   \n",
            "4  ['kylie jenner', 'kylie cosmetics', 'black gir...              NaN   \n",
            "\n",
            "  defaultAudioLanguage contentDuration   viewCount likeCount_y favouriteCount  \\\n",
            "0                  NaN           PT29S   9856583.0    307922.0            0.0   \n",
            "1                en-US            PT1M   1148157.0     55043.0            0.0   \n",
            "2                en-GB           PT20S  14590307.0    313755.0            0.0   \n",
            "3                   en           PT25S    153902.0     11349.0            0.0   \n",
            "4                   en         PT17M5S  12347504.0    504342.0            0.0   \n",
            "\n",
            "  commentCount                                    topicCategories  \n",
            "0       5901.0  ['https://en.wikipedia.org/wiki/Lifestyle_(soc...  \n",
            "1        164.0  ['https://en.wikipedia.org/wiki/Lifestyle_(soc...  \n",
            "2       4226.0  ['https://en.wikipedia.org/wiki/Lifestyle_(soc...  \n",
            "3        286.0  ['https://en.wikipedia.org/wiki/Lifestyle_(soc...  \n",
            "4      19920.0  ['https://en.wikipedia.org/wiki/Lifestyle_(soc...  \n",
            "\n",
            "[5 rows x 24 columns]\n"
          ]
        }
      ],
      "source": [
        "# merge both all_comments.csv and videos.csv\n",
        "df = comments.merge(videos, on=\"videoId\", how=\"left\")\n",
        "print(\"Merged shape:\", df.shape)\n",
        "print(df.head())\n"
      ]
    },
    {
      "cell_type": "code",
      "execution_count": null,
      "metadata": {
        "colab": {
          "base_uri": "https://localhost:8080/"
        },
        "id": "rGqv53IRqmnA",
        "outputId": "939dcde4-b496-4eef-bd5e-39f476da71d0"
      },
      "outputs": [
        {
          "output_type": "stream",
          "name": "stdout",
          "text": [
            "<class 'pandas.core.frame.DataFrame'>\n",
            "RangeIndex: 1000000 entries, 0 to 999999\n",
            "Data columns (total 24 columns):\n",
            " #   Column                Non-Null Count    Dtype  \n",
            "---  ------                --------------    -----  \n",
            " 0   kind_x                1000000 non-null  object \n",
            " 1   commentId             1000000 non-null  int64  \n",
            " 2   channelId_x           1000000 non-null  int64  \n",
            " 3   videoId               1000000 non-null  int64  \n",
            " 4   authorId              1000000 non-null  int64  \n",
            " 5   textOriginal          999954 non-null   object \n",
            " 6   parentCommentId       109713 non-null   float64\n",
            " 7   likeCount_x           1000000 non-null  int64  \n",
            " 8   publishedAt_x         1000000 non-null  object \n",
            " 9   updatedAt             1000000 non-null  object \n",
            " 10  kind_y                999677 non-null   object \n",
            " 11  publishedAt_y         999677 non-null   object \n",
            " 12  channelId_y           999677 non-null   float64\n",
            " 13  title                 999677 non-null   object \n",
            " 14  description           525286 non-null   object \n",
            " 15  tags                  379822 non-null   object \n",
            " 16  defaultLanguage       166712 non-null   object \n",
            " 17  defaultAudioLanguage  494509 non-null   object \n",
            " 18  contentDuration       989902 non-null   object \n",
            " 19  viewCount             989902 non-null   float64\n",
            " 20  likeCount_y           946483 non-null   float64\n",
            " 21  favouriteCount        989902 non-null   float64\n",
            " 22  commentCount          989902 non-null   float64\n",
            " 23  topicCategories       988786 non-null   object \n",
            "dtypes: float64(6), int64(5), object(13)\n",
            "memory usage: 183.1+ MB\n",
            "None\n"
          ]
        }
      ],
      "source": [
        "print(df.info())"
      ]
    },
    {
      "cell_type": "code",
      "execution_count": null,
      "metadata": {
        "colab": {
          "base_uri": "https://localhost:8080/"
        },
        "id": "WG1QqYkSqoxf",
        "outputId": "fc81af04-8bae-42a5-f39e-7ff34aae54c1"
      },
      "outputs": [
        {
          "output_type": "stream",
          "name": "stdout",
          "text": [
            "Number of duplicates:  0\n"
          ]
        }
      ],
      "source": [
        "duplicates = df.duplicated().sum()\n",
        "print(\"Number of duplicates: \", duplicates)"
      ]
    },
    {
      "cell_type": "code",
      "execution_count": null,
      "metadata": {
        "colab": {
          "base_uri": "https://localhost:8080/"
        },
        "id": "wFTtuR_YtVJt",
        "outputId": "5ea1bc99-9a60-464d-88e9-540355ca9b44"
      },
      "outputs": [
        {
          "output_type": "stream",
          "name": "stdout",
          "text": [
            "kind_x: \n",
            "0 nulls (0.00%), \n",
            "0 zeros (0.00%)\n",
            "\n",
            "commentId: \n",
            "0 nulls (0.00%), \n",
            "0 zeros (0.00%)\n",
            "\n",
            "channelId_x: \n",
            "0 nulls (0.00%), \n",
            "0 zeros (0.00%)\n",
            "\n",
            "videoId: \n",
            "0 nulls (0.00%), \n",
            "104 zeros (0.01%)\n",
            "\n",
            "authorId: \n",
            "0 nulls (0.00%), \n",
            "0 zeros (0.00%)\n",
            "\n",
            "textOriginal: \n",
            "46 nulls (0.00%), \n",
            "0 zeros (0.00%)\n",
            "\n",
            "parentCommentId: \n",
            "890287 nulls (89.03%), \n",
            "0 zeros (0.00%)\n",
            "\n",
            "likeCount_x: \n",
            "0 nulls (0.00%), \n",
            "796175 zeros (79.62%)\n",
            "\n",
            "publishedAt_x: \n",
            "0 nulls (0.00%), \n",
            "0 zeros (0.00%)\n",
            "\n",
            "updatedAt: \n",
            "0 nulls (0.00%), \n",
            "0 zeros (0.00%)\n",
            "\n",
            "kind_y: \n",
            "323 nulls (0.03%), \n",
            "0 zeros (0.00%)\n",
            "\n",
            "publishedAt_y: \n",
            "323 nulls (0.03%), \n",
            "0 zeros (0.00%)\n",
            "\n",
            "channelId_y: \n",
            "323 nulls (0.03%), \n",
            "0 zeros (0.00%)\n",
            "\n",
            "title: \n",
            "323 nulls (0.03%), \n",
            "0 zeros (0.00%)\n",
            "\n",
            "description: \n",
            "474714 nulls (47.47%), \n",
            "0 zeros (0.00%)\n",
            "\n",
            "tags: \n",
            "620178 nulls (62.02%), \n",
            "0 zeros (0.00%)\n",
            "\n",
            "defaultLanguage: \n",
            "833288 nulls (83.33%), \n",
            "0 zeros (0.00%)\n",
            "\n",
            "defaultAudioLanguage: \n",
            "505491 nulls (50.55%), \n",
            "0 zeros (0.00%)\n",
            "\n",
            "contentDuration: \n",
            "10098 nulls (1.01%), \n",
            "0 zeros (0.00%)\n",
            "\n",
            "viewCount: \n",
            "10098 nulls (1.01%), \n",
            "2 zeros (0.00%)\n",
            "\n",
            "likeCount_y: \n",
            "53517 nulls (5.35%), \n",
            "135 zeros (0.01%)\n",
            "\n",
            "favouriteCount: \n",
            "10098 nulls (1.01%), \n",
            "989902 zeros (98.99%)\n",
            "\n",
            "commentCount: \n",
            "10098 nulls (1.01%), \n",
            "119 zeros (0.01%)\n",
            "\n",
            "topicCategories: \n",
            "11214 nulls (1.12%), \n",
            "0 zeros (0.00%)\n",
            "\n"
          ]
        }
      ],
      "source": [
        "cols = df.columns\n",
        "for col in cols:\n",
        "    num_nulls = df[col].isnull().sum()\n",
        "    num_zeros = (df[col] == 0).sum()\n",
        "    print(f\"{col}: \")\n",
        "    print(f\"{num_nulls} nulls ({num_nulls/len(df)*100:.2f}%), \")\n",
        "    print(f\"{num_zeros} zeros ({num_zeros/len(df)*100:.2f}%)\")\n",
        "    print()\n"
      ]
    },
    {
      "cell_type": "markdown",
      "metadata": {
        "id": "0NFSEEhKw3ZD"
      },
      "source": [
        "# **Data Cleaning**"
      ]
    },
    {
      "cell_type": "code",
      "execution_count": null,
      "metadata": {
        "id": "xN6GuJ8lshlB"
      },
      "outputs": [],
      "source": [
        "# drop those meaningless rows (ids cannot be 0 & comments must exists)\n",
        "df = df[(df[\"commentId\"] != 0) & (df[\"authorId\"] != 0) & (df[\"videoId\"] != 0)]\n",
        "df = df.dropna(subset=[\"textOriginal\"])\n",
        "\n",
        "# make sure proper date convertion\n",
        "df[\"publishedAt_x\"] = pd.to_datetime(df[\"publishedAt_x\"], errors=\"coerce\")\n",
        "df[\"updatedAt\"]     = pd.to_datetime(df[\"updatedAt\"], errors=\"coerce\")\n",
        "df[\"publishedAt_y\"] = pd.to_datetime(df[\"publishedAt_y\"], errors=\"coerce\")\n",
        "\n",
        "# fill with empty strings\n",
        "df[\"description\"] = df[\"description\"].fillna(\"\")\n",
        "df[\"tags\"] = df[\"tags\"].fillna(\"\")\n",
        "\n",
        "# fill with \"unknown\"\n",
        "df[\"defaultLanguage\"] = df[\"defaultLanguage\"].fillna(\"unknown\")\n",
        "df[\"defaultAudioLanguage\"] = df[\"defaultAudioLanguage\"].fillna(\"unknown\")\n",
        "\n",
        "# drop cols\n",
        "for col in [\"viewCount\", \"likeCount_y\", \"commentCount\", \"contentDuration\", \"topicCategories\"]:\n",
        "    df = df.dropna(subset=[col])\n",
        "\n",
        "# drop favouriteCount (due to 99% zeros)\n",
        "df = df.drop(columns=[\"favouriteCount\"])\n",
        "\n",
        "# apply log transform to engagement counts (reduce skewness)\n",
        "for col in [\"viewCount\", \"likeCount_y\", \"commentCount\"]:\n",
        "    df[f\"log_{col}\"] = np.log1p(df[col])"
      ]
    },
    {
      "cell_type": "code",
      "execution_count": null,
      "metadata": {
        "colab": {
          "base_uri": "https://localhost:8080/"
        },
        "id": "p1LkmyCFvV0t",
        "outputId": "8e22430e-241b-4ee4-8197-3d9c5aa57043"
      },
      "outputs": [
        {
          "output_type": "stream",
          "name": "stdout",
          "text": [
            "kind_x: \n",
            "0 nulls (0.00%), \n",
            "0 zeros (0.00%)\n",
            "\n",
            "commentId: \n",
            "0 nulls (0.00%), \n",
            "0 zeros (0.00%)\n",
            "\n",
            "channelId_x: \n",
            "0 nulls (0.00%), \n",
            "0 zeros (0.00%)\n",
            "\n",
            "videoId: \n",
            "0 nulls (0.00%), \n",
            "0 zeros (0.00%)\n",
            "\n",
            "authorId: \n",
            "0 nulls (0.00%), \n",
            "0 zeros (0.00%)\n",
            "\n",
            "textOriginal: \n",
            "0 nulls (0.00%), \n",
            "0 zeros (0.00%)\n",
            "\n",
            "parentCommentId: \n",
            "843091 nulls (89.13%), \n",
            "0 zeros (0.00%)\n",
            "\n",
            "likeCount_x: \n",
            "0 nulls (0.00%), \n",
            "753623 zeros (79.67%)\n",
            "\n",
            "publishedAt_x: \n",
            "0 nulls (0.00%), \n",
            "0 zeros (0.00%)\n",
            "\n",
            "updatedAt: \n",
            "0 nulls (0.00%), \n",
            "0 zeros (0.00%)\n",
            "\n",
            "kind_y: \n",
            "0 nulls (0.00%), \n",
            "0 zeros (0.00%)\n",
            "\n",
            "publishedAt_y: \n",
            "0 nulls (0.00%), \n",
            "0 zeros (0.00%)\n",
            "\n",
            "channelId_y: \n",
            "0 nulls (0.00%), \n",
            "0 zeros (0.00%)\n",
            "\n",
            "title: \n",
            "0 nulls (0.00%), \n",
            "0 zeros (0.00%)\n",
            "\n",
            "description: \n",
            "0 nulls (0.00%), \n",
            "0 zeros (0.00%)\n",
            "\n",
            "tags: \n",
            "0 nulls (0.00%), \n",
            "0 zeros (0.00%)\n",
            "\n",
            "defaultLanguage: \n",
            "0 nulls (0.00%), \n",
            "0 zeros (0.00%)\n",
            "\n",
            "defaultAudioLanguage: \n",
            "0 nulls (0.00%), \n",
            "0 zeros (0.00%)\n",
            "\n",
            "contentDuration: \n",
            "0 nulls (0.00%), \n",
            "0 zeros (0.00%)\n",
            "\n",
            "viewCount: \n",
            "0 nulls (0.00%), \n",
            "2 zeros (0.00%)\n",
            "\n",
            "likeCount_y: \n",
            "0 nulls (0.00%), \n",
            "134 zeros (0.01%)\n",
            "\n",
            "commentCount: \n",
            "0 nulls (0.00%), \n",
            "110 zeros (0.01%)\n",
            "\n",
            "topicCategories: \n",
            "0 nulls (0.00%), \n",
            "0 zeros (0.00%)\n",
            "\n",
            "log_viewCount: \n",
            "0 nulls (0.00%), \n",
            "2 zeros (0.00%)\n",
            "\n",
            "log_likeCount_y: \n",
            "0 nulls (0.00%), \n",
            "134 zeros (0.01%)\n",
            "\n",
            "log_commentCount: \n",
            "0 nulls (0.00%), \n",
            "110 zeros (0.01%)\n",
            "\n"
          ]
        }
      ],
      "source": [
        "cols = df.columns\n",
        "for col in cols:\n",
        "    num_nulls = df[col].isnull().sum()\n",
        "    num_zeros = (df[col] == 0).sum()\n",
        "    print(f\"{col}: \")\n",
        "    print(f\"{num_nulls} nulls ({num_nulls/len(df)*100:.2f}%), \")\n",
        "    print(f\"{num_zeros} zeros ({num_zeros/len(df)*100:.2f}%)\")\n",
        "    print()\n"
      ]
    },
    {
      "cell_type": "markdown",
      "metadata": {
        "id": "62YAveBDw88C"
      },
      "source": [
        "# **EDA**"
      ]
    },
    {
      "cell_type": "code",
      "execution_count": null,
      "metadata": {
        "colab": {
          "base_uri": "https://localhost:8080/",
          "height": 600
        },
        "id": "aN1CGR2Bw-ff",
        "outputId": "337e9139-c3dd-41bc-9cb2-075ab3884507"
      },
      "outputs": [
        {
          "output_type": "stream",
          "name": "stdout",
          "text": [
            "Total comments: 945949\n",
            "Unique videos: 22622\n",
            "Unique authors: 854360\n"
          ]
        },
        {
          "output_type": "execute_result",
          "data": {
            "text/plain": [
              "                 kind_x     commentId    channelId_x        videoId  \\\n",
              "count            945949  9.459490e+05  945949.000000  945949.000000   \n",
              "unique                1           NaN            NaN            NaN   \n",
              "top     youtube#comment           NaN            NaN            NaN   \n",
              "freq             945949           NaN            NaN            NaN   \n",
              "mean                NaN  2.364592e+06   26428.065122   47016.169268   \n",
              "min                 NaN  3.000000e+00       1.000000       6.000000   \n",
              "25%                 NaN  1.182520e+06   14492.000000   26019.000000   \n",
              "50%                 NaN  2.366464e+06   24136.000000   47096.000000   \n",
              "75%                 NaN  3.545794e+06   40618.000000   69179.000000   \n",
              "max                 NaN  4.725011e+06   53673.000000   92852.000000   \n",
              "std                 NaN  1.364363e+06   15155.766970   25864.593742   \n",
              "\n",
              "            authorId textOriginal  parentCommentId    likeCount_x  \\\n",
              "count   9.459490e+05       945949     1.028580e+05  945949.000000   \n",
              "unique           NaN       790311              NaN            NaN   \n",
              "top              NaN            ❤              NaN            NaN   \n",
              "freq             NaN         3334              NaN            NaN   \n",
              "mean    1.829249e+06          NaN     2.622482e+06       9.857820   \n",
              "min     2.000000e+00          NaN     5.162440e+05       0.000000   \n",
              "25%     9.164940e+05          NaN     1.575914e+06       0.000000   \n",
              "50%     1.828432e+06          NaN     2.615704e+06       0.000000   \n",
              "75%     2.738941e+06          NaN     3.675115e+06       0.000000   \n",
              "max     3.659440e+06          NaN     4.725006e+06  210116.000000   \n",
              "std     1.052968e+06          NaN     1.214429e+06     445.370725   \n",
              "\n",
              "                              publishedAt_x  \\\n",
              "count                                945949   \n",
              "unique                                  NaN   \n",
              "top                                     NaN   \n",
              "freq                                    NaN   \n",
              "mean    2023-09-03 14:27:21.416302592+00:00   \n",
              "min               2020-01-04 14:22:11+00:00   \n",
              "25%               2022-12-02 05:58:56+00:00   \n",
              "50%               2023-11-01 14:09:59+00:00   \n",
              "75%               2024-10-11 10:41:25+00:00   \n",
              "max               2025-07-20 15:09:26+00:00   \n",
              "std                                     NaN   \n",
              "\n",
              "                                  updatedAt  ... defaultLanguage  \\\n",
              "count                                945949  ...          945949   \n",
              "unique                                  NaN  ...              50   \n",
              "top                                     NaN  ...         unknown   \n",
              "freq                                    NaN  ...          782847   \n",
              "mean    2023-09-05 06:08:30.038609920+00:00  ...             NaN   \n",
              "min               2020-01-04 14:22:11+00:00  ...             NaN   \n",
              "25%               2022-12-03 15:05:53+00:00  ...             NaN   \n",
              "50%               2023-11-05 07:16:00+00:00  ...             NaN   \n",
              "75%               2024-10-11 17:50:14+00:00  ...             NaN   \n",
              "max               2025-07-20 15:09:26+00:00  ...             NaN   \n",
              "std                                     NaN  ...             NaN   \n",
              "\n",
              "       defaultAudioLanguage  contentDuration     viewCount   likeCount_y  \\\n",
              "count                945949           945949  9.459490e+05  9.459490e+05   \n",
              "unique                   80             1352           NaN           NaN   \n",
              "top                 unknown             PT1M           NaN           NaN   \n",
              "freq                 461748           104107           NaN           NaN   \n",
              "mean                    NaN              NaN  1.966010e+07  6.547008e+05   \n",
              "min                     NaN              NaN  0.000000e+00  0.000000e+00   \n",
              "25%                     NaN              NaN  2.085091e+06  7.090500e+04   \n",
              "50%                     NaN              NaN  8.924650e+06  3.279170e+05   \n",
              "75%                     NaN              NaN  2.473123e+07  8.603030e+05   \n",
              "max                     NaN              NaN  4.057481e+08  7.162433e+06   \n",
              "std                     NaN              NaN  2.982946e+07  8.710774e+05   \n",
              "\n",
              "         commentCount                                    topicCategories  \\\n",
              "count   945949.000000                                             945949   \n",
              "unique            NaN                                                123   \n",
              "top               NaN  ['https://en.wikipedia.org/wiki/Lifestyle_(soc...   \n",
              "freq              NaN                                             827700   \n",
              "mean     11060.884928                                                NaN   \n",
              "min          0.000000                                                NaN   \n",
              "25%        996.000000                                                NaN   \n",
              "50%       4470.000000                                                NaN   \n",
              "75%      15170.000000                                                NaN   \n",
              "max      78195.000000                                                NaN   \n",
              "std      15916.662684                                                NaN   \n",
              "\n",
              "        log_viewCount log_likeCount_y  log_commentCount  \n",
              "count   945949.000000   945949.000000     945949.000000  \n",
              "unique            NaN             NaN               NaN  \n",
              "top               NaN             NaN               NaN  \n",
              "freq              NaN             NaN               NaN  \n",
              "mean        15.444024       12.079384          8.034856  \n",
              "min          0.000000        0.000000          0.000000  \n",
              "25%         14.550324       11.169110          6.904751  \n",
              "50%         16.004328       12.700519          8.405367  \n",
              "75%         17.023577       13.665041          9.627141  \n",
              "max         19.821243       15.784360         11.266974  \n",
              "std          2.397402        2.363304          2.053133  \n",
              "\n",
              "[11 rows x 26 columns]"
            ],
            "text/html": [
              "\n",
              "  <div id=\"df-e7918d99-4c0f-4ca3-bc18-949cfda74784\" class=\"colab-df-container\">\n",
              "    <div>\n",
              "<style scoped>\n",
              "    .dataframe tbody tr th:only-of-type {\n",
              "        vertical-align: middle;\n",
              "    }\n",
              "\n",
              "    .dataframe tbody tr th {\n",
              "        vertical-align: top;\n",
              "    }\n",
              "\n",
              "    .dataframe thead th {\n",
              "        text-align: right;\n",
              "    }\n",
              "</style>\n",
              "<table border=\"1\" class=\"dataframe\">\n",
              "  <thead>\n",
              "    <tr style=\"text-align: right;\">\n",
              "      <th></th>\n",
              "      <th>kind_x</th>\n",
              "      <th>commentId</th>\n",
              "      <th>channelId_x</th>\n",
              "      <th>videoId</th>\n",
              "      <th>authorId</th>\n",
              "      <th>textOriginal</th>\n",
              "      <th>parentCommentId</th>\n",
              "      <th>likeCount_x</th>\n",
              "      <th>publishedAt_x</th>\n",
              "      <th>updatedAt</th>\n",
              "      <th>...</th>\n",
              "      <th>defaultLanguage</th>\n",
              "      <th>defaultAudioLanguage</th>\n",
              "      <th>contentDuration</th>\n",
              "      <th>viewCount</th>\n",
              "      <th>likeCount_y</th>\n",
              "      <th>commentCount</th>\n",
              "      <th>topicCategories</th>\n",
              "      <th>log_viewCount</th>\n",
              "      <th>log_likeCount_y</th>\n",
              "      <th>log_commentCount</th>\n",
              "    </tr>\n",
              "  </thead>\n",
              "  <tbody>\n",
              "    <tr>\n",
              "      <th>count</th>\n",
              "      <td>945949</td>\n",
              "      <td>9.459490e+05</td>\n",
              "      <td>945949.000000</td>\n",
              "      <td>945949.000000</td>\n",
              "      <td>9.459490e+05</td>\n",
              "      <td>945949</td>\n",
              "      <td>1.028580e+05</td>\n",
              "      <td>945949.000000</td>\n",
              "      <td>945949</td>\n",
              "      <td>945949</td>\n",
              "      <td>...</td>\n",
              "      <td>945949</td>\n",
              "      <td>945949</td>\n",
              "      <td>945949</td>\n",
              "      <td>9.459490e+05</td>\n",
              "      <td>9.459490e+05</td>\n",
              "      <td>945949.000000</td>\n",
              "      <td>945949</td>\n",
              "      <td>945949.000000</td>\n",
              "      <td>945949.000000</td>\n",
              "      <td>945949.000000</td>\n",
              "    </tr>\n",
              "    <tr>\n",
              "      <th>unique</th>\n",
              "      <td>1</td>\n",
              "      <td>NaN</td>\n",
              "      <td>NaN</td>\n",
              "      <td>NaN</td>\n",
              "      <td>NaN</td>\n",
              "      <td>790311</td>\n",
              "      <td>NaN</td>\n",
              "      <td>NaN</td>\n",
              "      <td>NaN</td>\n",
              "      <td>NaN</td>\n",
              "      <td>...</td>\n",
              "      <td>50</td>\n",
              "      <td>80</td>\n",
              "      <td>1352</td>\n",
              "      <td>NaN</td>\n",
              "      <td>NaN</td>\n",
              "      <td>NaN</td>\n",
              "      <td>123</td>\n",
              "      <td>NaN</td>\n",
              "      <td>NaN</td>\n",
              "      <td>NaN</td>\n",
              "    </tr>\n",
              "    <tr>\n",
              "      <th>top</th>\n",
              "      <td>youtube#comment</td>\n",
              "      <td>NaN</td>\n",
              "      <td>NaN</td>\n",
              "      <td>NaN</td>\n",
              "      <td>NaN</td>\n",
              "      <td>❤</td>\n",
              "      <td>NaN</td>\n",
              "      <td>NaN</td>\n",
              "      <td>NaN</td>\n",
              "      <td>NaN</td>\n",
              "      <td>...</td>\n",
              "      <td>unknown</td>\n",
              "      <td>unknown</td>\n",
              "      <td>PT1M</td>\n",
              "      <td>NaN</td>\n",
              "      <td>NaN</td>\n",
              "      <td>NaN</td>\n",
              "      <td>['https://en.wikipedia.org/wiki/Lifestyle_(soc...</td>\n",
              "      <td>NaN</td>\n",
              "      <td>NaN</td>\n",
              "      <td>NaN</td>\n",
              "    </tr>\n",
              "    <tr>\n",
              "      <th>freq</th>\n",
              "      <td>945949</td>\n",
              "      <td>NaN</td>\n",
              "      <td>NaN</td>\n",
              "      <td>NaN</td>\n",
              "      <td>NaN</td>\n",
              "      <td>3334</td>\n",
              "      <td>NaN</td>\n",
              "      <td>NaN</td>\n",
              "      <td>NaN</td>\n",
              "      <td>NaN</td>\n",
              "      <td>...</td>\n",
              "      <td>782847</td>\n",
              "      <td>461748</td>\n",
              "      <td>104107</td>\n",
              "      <td>NaN</td>\n",
              "      <td>NaN</td>\n",
              "      <td>NaN</td>\n",
              "      <td>827700</td>\n",
              "      <td>NaN</td>\n",
              "      <td>NaN</td>\n",
              "      <td>NaN</td>\n",
              "    </tr>\n",
              "    <tr>\n",
              "      <th>mean</th>\n",
              "      <td>NaN</td>\n",
              "      <td>2.364592e+06</td>\n",
              "      <td>26428.065122</td>\n",
              "      <td>47016.169268</td>\n",
              "      <td>1.829249e+06</td>\n",
              "      <td>NaN</td>\n",
              "      <td>2.622482e+06</td>\n",
              "      <td>9.857820</td>\n",
              "      <td>2023-09-03 14:27:21.416302592+00:00</td>\n",
              "      <td>2023-09-05 06:08:30.038609920+00:00</td>\n",
              "      <td>...</td>\n",
              "      <td>NaN</td>\n",
              "      <td>NaN</td>\n",
              "      <td>NaN</td>\n",
              "      <td>1.966010e+07</td>\n",
              "      <td>6.547008e+05</td>\n",
              "      <td>11060.884928</td>\n",
              "      <td>NaN</td>\n",
              "      <td>15.444024</td>\n",
              "      <td>12.079384</td>\n",
              "      <td>8.034856</td>\n",
              "    </tr>\n",
              "    <tr>\n",
              "      <th>min</th>\n",
              "      <td>NaN</td>\n",
              "      <td>3.000000e+00</td>\n",
              "      <td>1.000000</td>\n",
              "      <td>6.000000</td>\n",
              "      <td>2.000000e+00</td>\n",
              "      <td>NaN</td>\n",
              "      <td>5.162440e+05</td>\n",
              "      <td>0.000000</td>\n",
              "      <td>2020-01-04 14:22:11+00:00</td>\n",
              "      <td>2020-01-04 14:22:11+00:00</td>\n",
              "      <td>...</td>\n",
              "      <td>NaN</td>\n",
              "      <td>NaN</td>\n",
              "      <td>NaN</td>\n",
              "      <td>0.000000e+00</td>\n",
              "      <td>0.000000e+00</td>\n",
              "      <td>0.000000</td>\n",
              "      <td>NaN</td>\n",
              "      <td>0.000000</td>\n",
              "      <td>0.000000</td>\n",
              "      <td>0.000000</td>\n",
              "    </tr>\n",
              "    <tr>\n",
              "      <th>25%</th>\n",
              "      <td>NaN</td>\n",
              "      <td>1.182520e+06</td>\n",
              "      <td>14492.000000</td>\n",
              "      <td>26019.000000</td>\n",
              "      <td>9.164940e+05</td>\n",
              "      <td>NaN</td>\n",
              "      <td>1.575914e+06</td>\n",
              "      <td>0.000000</td>\n",
              "      <td>2022-12-02 05:58:56+00:00</td>\n",
              "      <td>2022-12-03 15:05:53+00:00</td>\n",
              "      <td>...</td>\n",
              "      <td>NaN</td>\n",
              "      <td>NaN</td>\n",
              "      <td>NaN</td>\n",
              "      <td>2.085091e+06</td>\n",
              "      <td>7.090500e+04</td>\n",
              "      <td>996.000000</td>\n",
              "      <td>NaN</td>\n",
              "      <td>14.550324</td>\n",
              "      <td>11.169110</td>\n",
              "      <td>6.904751</td>\n",
              "    </tr>\n",
              "    <tr>\n",
              "      <th>50%</th>\n",
              "      <td>NaN</td>\n",
              "      <td>2.366464e+06</td>\n",
              "      <td>24136.000000</td>\n",
              "      <td>47096.000000</td>\n",
              "      <td>1.828432e+06</td>\n",
              "      <td>NaN</td>\n",
              "      <td>2.615704e+06</td>\n",
              "      <td>0.000000</td>\n",
              "      <td>2023-11-01 14:09:59+00:00</td>\n",
              "      <td>2023-11-05 07:16:00+00:00</td>\n",
              "      <td>...</td>\n",
              "      <td>NaN</td>\n",
              "      <td>NaN</td>\n",
              "      <td>NaN</td>\n",
              "      <td>8.924650e+06</td>\n",
              "      <td>3.279170e+05</td>\n",
              "      <td>4470.000000</td>\n",
              "      <td>NaN</td>\n",
              "      <td>16.004328</td>\n",
              "      <td>12.700519</td>\n",
              "      <td>8.405367</td>\n",
              "    </tr>\n",
              "    <tr>\n",
              "      <th>75%</th>\n",
              "      <td>NaN</td>\n",
              "      <td>3.545794e+06</td>\n",
              "      <td>40618.000000</td>\n",
              "      <td>69179.000000</td>\n",
              "      <td>2.738941e+06</td>\n",
              "      <td>NaN</td>\n",
              "      <td>3.675115e+06</td>\n",
              "      <td>0.000000</td>\n",
              "      <td>2024-10-11 10:41:25+00:00</td>\n",
              "      <td>2024-10-11 17:50:14+00:00</td>\n",
              "      <td>...</td>\n",
              "      <td>NaN</td>\n",
              "      <td>NaN</td>\n",
              "      <td>NaN</td>\n",
              "      <td>2.473123e+07</td>\n",
              "      <td>8.603030e+05</td>\n",
              "      <td>15170.000000</td>\n",
              "      <td>NaN</td>\n",
              "      <td>17.023577</td>\n",
              "      <td>13.665041</td>\n",
              "      <td>9.627141</td>\n",
              "    </tr>\n",
              "    <tr>\n",
              "      <th>max</th>\n",
              "      <td>NaN</td>\n",
              "      <td>4.725011e+06</td>\n",
              "      <td>53673.000000</td>\n",
              "      <td>92852.000000</td>\n",
              "      <td>3.659440e+06</td>\n",
              "      <td>NaN</td>\n",
              "      <td>4.725006e+06</td>\n",
              "      <td>210116.000000</td>\n",
              "      <td>2025-07-20 15:09:26+00:00</td>\n",
              "      <td>2025-07-20 15:09:26+00:00</td>\n",
              "      <td>...</td>\n",
              "      <td>NaN</td>\n",
              "      <td>NaN</td>\n",
              "      <td>NaN</td>\n",
              "      <td>4.057481e+08</td>\n",
              "      <td>7.162433e+06</td>\n",
              "      <td>78195.000000</td>\n",
              "      <td>NaN</td>\n",
              "      <td>19.821243</td>\n",
              "      <td>15.784360</td>\n",
              "      <td>11.266974</td>\n",
              "    </tr>\n",
              "    <tr>\n",
              "      <th>std</th>\n",
              "      <td>NaN</td>\n",
              "      <td>1.364363e+06</td>\n",
              "      <td>15155.766970</td>\n",
              "      <td>25864.593742</td>\n",
              "      <td>1.052968e+06</td>\n",
              "      <td>NaN</td>\n",
              "      <td>1.214429e+06</td>\n",
              "      <td>445.370725</td>\n",
              "      <td>NaN</td>\n",
              "      <td>NaN</td>\n",
              "      <td>...</td>\n",
              "      <td>NaN</td>\n",
              "      <td>NaN</td>\n",
              "      <td>NaN</td>\n",
              "      <td>2.982946e+07</td>\n",
              "      <td>8.710774e+05</td>\n",
              "      <td>15916.662684</td>\n",
              "      <td>NaN</td>\n",
              "      <td>2.397402</td>\n",
              "      <td>2.363304</td>\n",
              "      <td>2.053133</td>\n",
              "    </tr>\n",
              "  </tbody>\n",
              "</table>\n",
              "<p>11 rows × 26 columns</p>\n",
              "</div>\n",
              "    <div class=\"colab-df-buttons\">\n",
              "\n",
              "  <div class=\"colab-df-container\">\n",
              "    <button class=\"colab-df-convert\" onclick=\"convertToInteractive('df-e7918d99-4c0f-4ca3-bc18-949cfda74784')\"\n",
              "            title=\"Convert this dataframe to an interactive table.\"\n",
              "            style=\"display:none;\">\n",
              "\n",
              "  <svg xmlns=\"http://www.w3.org/2000/svg\" height=\"24px\" viewBox=\"0 -960 960 960\">\n",
              "    <path d=\"M120-120v-720h720v720H120Zm60-500h600v-160H180v160Zm220 220h160v-160H400v160Zm0 220h160v-160H400v160ZM180-400h160v-160H180v160Zm440 0h160v-160H620v160ZM180-180h160v-160H180v160Zm440 0h160v-160H620v160Z\"/>\n",
              "  </svg>\n",
              "    </button>\n",
              "\n",
              "  <style>\n",
              "    .colab-df-container {\n",
              "      display:flex;\n",
              "      gap: 12px;\n",
              "    }\n",
              "\n",
              "    .colab-df-convert {\n",
              "      background-color: #E8F0FE;\n",
              "      border: none;\n",
              "      border-radius: 50%;\n",
              "      cursor: pointer;\n",
              "      display: none;\n",
              "      fill: #1967D2;\n",
              "      height: 32px;\n",
              "      padding: 0 0 0 0;\n",
              "      width: 32px;\n",
              "    }\n",
              "\n",
              "    .colab-df-convert:hover {\n",
              "      background-color: #E2EBFA;\n",
              "      box-shadow: 0px 1px 2px rgba(60, 64, 67, 0.3), 0px 1px 3px 1px rgba(60, 64, 67, 0.15);\n",
              "      fill: #174EA6;\n",
              "    }\n",
              "\n",
              "    .colab-df-buttons div {\n",
              "      margin-bottom: 4px;\n",
              "    }\n",
              "\n",
              "    [theme=dark] .colab-df-convert {\n",
              "      background-color: #3B4455;\n",
              "      fill: #D2E3FC;\n",
              "    }\n",
              "\n",
              "    [theme=dark] .colab-df-convert:hover {\n",
              "      background-color: #434B5C;\n",
              "      box-shadow: 0px 1px 3px 1px rgba(0, 0, 0, 0.15);\n",
              "      filter: drop-shadow(0px 1px 2px rgba(0, 0, 0, 0.3));\n",
              "      fill: #FFFFFF;\n",
              "    }\n",
              "  </style>\n",
              "\n",
              "    <script>\n",
              "      const buttonEl =\n",
              "        document.querySelector('#df-e7918d99-4c0f-4ca3-bc18-949cfda74784 button.colab-df-convert');\n",
              "      buttonEl.style.display =\n",
              "        google.colab.kernel.accessAllowed ? 'block' : 'none';\n",
              "\n",
              "      async function convertToInteractive(key) {\n",
              "        const element = document.querySelector('#df-e7918d99-4c0f-4ca3-bc18-949cfda74784');\n",
              "        const dataTable =\n",
              "          await google.colab.kernel.invokeFunction('convertToInteractive',\n",
              "                                                    [key], {});\n",
              "        if (!dataTable) return;\n",
              "\n",
              "        const docLinkHtml = 'Like what you see? Visit the ' +\n",
              "          '<a target=\"_blank\" href=https://colab.research.google.com/notebooks/data_table.ipynb>data table notebook</a>'\n",
              "          + ' to learn more about interactive tables.';\n",
              "        element.innerHTML = '';\n",
              "        dataTable['output_type'] = 'display_data';\n",
              "        await google.colab.output.renderOutput(dataTable, element);\n",
              "        const docLink = document.createElement('div');\n",
              "        docLink.innerHTML = docLinkHtml;\n",
              "        element.appendChild(docLink);\n",
              "      }\n",
              "    </script>\n",
              "  </div>\n",
              "\n",
              "\n",
              "    <div id=\"df-d2b5ba22-0fdc-4bdc-9a7e-fcd95f05e82f\">\n",
              "      <button class=\"colab-df-quickchart\" onclick=\"quickchart('df-d2b5ba22-0fdc-4bdc-9a7e-fcd95f05e82f')\"\n",
              "                title=\"Suggest charts\"\n",
              "                style=\"display:none;\">\n",
              "\n",
              "<svg xmlns=\"http://www.w3.org/2000/svg\" height=\"24px\"viewBox=\"0 0 24 24\"\n",
              "     width=\"24px\">\n",
              "    <g>\n",
              "        <path d=\"M19 3H5c-1.1 0-2 .9-2 2v14c0 1.1.9 2 2 2h14c1.1 0 2-.9 2-2V5c0-1.1-.9-2-2-2zM9 17H7v-7h2v7zm4 0h-2V7h2v10zm4 0h-2v-4h2v4z\"/>\n",
              "    </g>\n",
              "</svg>\n",
              "      </button>\n",
              "\n",
              "<style>\n",
              "  .colab-df-quickchart {\n",
              "      --bg-color: #E8F0FE;\n",
              "      --fill-color: #1967D2;\n",
              "      --hover-bg-color: #E2EBFA;\n",
              "      --hover-fill-color: #174EA6;\n",
              "      --disabled-fill-color: #AAA;\n",
              "      --disabled-bg-color: #DDD;\n",
              "  }\n",
              "\n",
              "  [theme=dark] .colab-df-quickchart {\n",
              "      --bg-color: #3B4455;\n",
              "      --fill-color: #D2E3FC;\n",
              "      --hover-bg-color: #434B5C;\n",
              "      --hover-fill-color: #FFFFFF;\n",
              "      --disabled-bg-color: #3B4455;\n",
              "      --disabled-fill-color: #666;\n",
              "  }\n",
              "\n",
              "  .colab-df-quickchart {\n",
              "    background-color: var(--bg-color);\n",
              "    border: none;\n",
              "    border-radius: 50%;\n",
              "    cursor: pointer;\n",
              "    display: none;\n",
              "    fill: var(--fill-color);\n",
              "    height: 32px;\n",
              "    padding: 0;\n",
              "    width: 32px;\n",
              "  }\n",
              "\n",
              "  .colab-df-quickchart:hover {\n",
              "    background-color: var(--hover-bg-color);\n",
              "    box-shadow: 0 1px 2px rgba(60, 64, 67, 0.3), 0 1px 3px 1px rgba(60, 64, 67, 0.15);\n",
              "    fill: var(--button-hover-fill-color);\n",
              "  }\n",
              "\n",
              "  .colab-df-quickchart-complete:disabled,\n",
              "  .colab-df-quickchart-complete:disabled:hover {\n",
              "    background-color: var(--disabled-bg-color);\n",
              "    fill: var(--disabled-fill-color);\n",
              "    box-shadow: none;\n",
              "  }\n",
              "\n",
              "  .colab-df-spinner {\n",
              "    border: 2px solid var(--fill-color);\n",
              "    border-color: transparent;\n",
              "    border-bottom-color: var(--fill-color);\n",
              "    animation:\n",
              "      spin 1s steps(1) infinite;\n",
              "  }\n",
              "\n",
              "  @keyframes spin {\n",
              "    0% {\n",
              "      border-color: transparent;\n",
              "      border-bottom-color: var(--fill-color);\n",
              "      border-left-color: var(--fill-color);\n",
              "    }\n",
              "    20% {\n",
              "      border-color: transparent;\n",
              "      border-left-color: var(--fill-color);\n",
              "      border-top-color: var(--fill-color);\n",
              "    }\n",
              "    30% {\n",
              "      border-color: transparent;\n",
              "      border-left-color: var(--fill-color);\n",
              "      border-top-color: var(--fill-color);\n",
              "      border-right-color: var(--fill-color);\n",
              "    }\n",
              "    40% {\n",
              "      border-color: transparent;\n",
              "      border-right-color: var(--fill-color);\n",
              "      border-top-color: var(--fill-color);\n",
              "    }\n",
              "    60% {\n",
              "      border-color: transparent;\n",
              "      border-right-color: var(--fill-color);\n",
              "    }\n",
              "    80% {\n",
              "      border-color: transparent;\n",
              "      border-right-color: var(--fill-color);\n",
              "      border-bottom-color: var(--fill-color);\n",
              "    }\n",
              "    90% {\n",
              "      border-color: transparent;\n",
              "      border-bottom-color: var(--fill-color);\n",
              "    }\n",
              "  }\n",
              "</style>\n",
              "\n",
              "      <script>\n",
              "        async function quickchart(key) {\n",
              "          const quickchartButtonEl =\n",
              "            document.querySelector('#' + key + ' button');\n",
              "          quickchartButtonEl.disabled = true;  // To prevent multiple clicks.\n",
              "          quickchartButtonEl.classList.add('colab-df-spinner');\n",
              "          try {\n",
              "            const charts = await google.colab.kernel.invokeFunction(\n",
              "                'suggestCharts', [key], {});\n",
              "          } catch (error) {\n",
              "            console.error('Error during call to suggestCharts:', error);\n",
              "          }\n",
              "          quickchartButtonEl.classList.remove('colab-df-spinner');\n",
              "          quickchartButtonEl.classList.add('colab-df-quickchart-complete');\n",
              "        }\n",
              "        (() => {\n",
              "          let quickchartButtonEl =\n",
              "            document.querySelector('#df-d2b5ba22-0fdc-4bdc-9a7e-fcd95f05e82f button');\n",
              "          quickchartButtonEl.style.display =\n",
              "            google.colab.kernel.accessAllowed ? 'block' : 'none';\n",
              "        })();\n",
              "      </script>\n",
              "    </div>\n",
              "\n",
              "    </div>\n",
              "  </div>\n"
            ],
            "application/vnd.google.colaboratory.intrinsic+json": {
              "type": "dataframe"
            }
          },
          "metadata": {},
          "execution_count": 10
        }
      ],
      "source": [
        "print(\"Total comments:\", len(df))\n",
        "print(\"Unique videos:\", df[\"videoId\"].nunique())\n",
        "print(\"Unique authors:\", df[\"authorId\"].nunique())\n",
        "df.describe(include=\"all\")\n"
      ]
    },
    {
      "cell_type": "code",
      "execution_count": null,
      "metadata": {
        "colab": {
          "base_uri": "https://localhost:8080/",
          "height": 467
        },
        "id": "M7-wsf4Xw-8n",
        "outputId": "c7652544-f34f-4656-f7a7-b59049e32322"
      },
      "outputs": [
        {
          "output_type": "execute_result",
          "data": {
            "text/plain": [
              "<Axes: xlabel='publishedAt_x'>"
            ]
          },
          "metadata": {},
          "execution_count": 11
        },
        {
          "output_type": "display_data",
          "data": {
            "text/plain": [
              "<Figure size 640x480 with 1 Axes>"
            ],
            "image/png": "[encoded data removed]"
          },
          "metadata": {}
        }
      ],
      "source": [
        "df.groupby(\"authorId\")[\"commentId\"].count().sort_values(ascending=False).head(10)\n",
        "df.groupby(\"videoId\")[\"commentId\"].count().sort_values(ascending=False).head(10)\n",
        "df.resample(\"D\", on=\"publishedAt_x\")[\"commentId\"].count().plot() # daily\n",
        "\n",
        "# comments over time is increasing\n",
        "# comments per author: to identify the top commenters (spam detection if too frequency)"
      ]
    },
    {
      "cell_type": "code",
      "execution_count": null,
      "metadata": {
        "colab": {
          "base_uri": "https://localhost:8080/",
          "height": 467
        },
        "id": "6wfaiCXxzvmS",
        "outputId": "00593a2d-0209-4169-dd1f-7f16be1bad24"
      },
      "outputs": [
        {
          "output_type": "execute_result",
          "data": {
            "text/plain": [
              "<Axes: xlabel='publishedAt_y'>"
            ]
          },
          "metadata": {},
          "execution_count": 12
        },
        {
          "output_type": "display_data",
          "data": {
            "text/plain": [
              "<Figure size 640x480 with 1 Axes>"
            ],
            "image/png": "[encoded data removed]"
          },
          "metadata": {}
        }
      ],
      "source": [
        "df.groupby(\"authorId\")[\"commentId\"].count().sort_values(ascending=False).head(10)\n",
        "df.groupby(\"videoId\")[\"commentId\"].count().sort_values(ascending=False).head(10)\n",
        "df.resample(\"D\", on=\"publishedAt_y\")[\"commentId\"].count().plot() # daily"
      ]
    },
    {
      "cell_type": "code",
      "execution_count": null,
      "metadata": {
        "colab": {
          "base_uri": "https://localhost:8080/"
        },
        "id": "mgSpFB3fbu_H",
        "outputId": "f9c4be68-fa0c-4219-a6cb-26ec52be8fb8"
      },
      "outputs": [
        {
          "output_type": "stream",
          "name": "stdout",
          "text": [
            "count    945949.000000\n",
            "mean         47.631447\n",
            "std          84.609057\n",
            "min           1.000000\n",
            "25%          13.000000\n",
            "50%          28.000000\n",
            "75%          54.000000\n",
            "max        9126.000000\n",
            "Name: comment_length, dtype: float64\n",
            "\n",
            "count    945949.000000\n",
            "mean          8.922153\n",
            "std          15.030954\n",
            "min           1.000000\n",
            "25%           2.000000\n",
            "50%           5.000000\n",
            "75%          10.000000\n",
            "max        1537.000000\n",
            "Name: word_count, dtype: float64\n"
          ]
        }
      ],
      "source": [
        "df[\"comment_length\"] = df[\"textOriginal\"].apply(len)\n",
        "df[\"word_count\"] = df[\"textOriginal\"].apply(lambda x: len(x.split()))\n",
        "\n",
        "print(df[\"comment_length\"].describe())\n",
        "print()\n",
        "print(df[\"word_count\"].describe())\n"
      ]
    },
    {
      "cell_type": "code",
      "execution_count": null,
      "metadata": {
        "colab": {
          "base_uri": "https://localhost:8080/",
          "height": 472
        },
        "id": "2cyG-9ldb3Dy",
        "outputId": "e7a70992-d5ba-4e7b-861b-edab3cccd3ec"
      },
      "outputs": [
        {
          "output_type": "display_data",
          "data": {
            "text/plain": [
              "<Figure size 640x480 with 1 Axes>"
            ],
            "image/png": "[encoded data removed]"
          },
          "metadata": {}
        }
      ],
      "source": [
        "sns.histplot(df[\"word_count\"], bins=5, kde=True)\n",
        "plt.title(\"Distribution of Comment Word Count\")\n",
        "plt.show()\n"
      ]
    },
    {
      "cell_type": "code",
      "execution_count": null,
      "metadata": {
        "colab": {
          "base_uri": "https://localhost:8080/",
          "height": 467
        },
        "id": "LYL4tagQxKw4",
        "outputId": "1271c736-1fdd-40c5-e1d0-cac90a4d7dbf"
      },
      "outputs": [
        {
          "output_type": "execute_result",
          "data": {
            "text/plain": [
              "<Axes: xlabel='text_length', ylabel='likeCount_x'>"
            ]
          },
          "metadata": {},
          "execution_count": 15
        },
        {
          "output_type": "display_data",
          "data": {
            "text/plain": [
              "<Figure size 640x480 with 1 Axes>"
            ],
            "image/png": "[encoded data removed]"
          },
          "metadata": {}
        }
      ],
      "source": [
        "# engagement analysis\n",
        "df[\"text_length\"] = df[\"textOriginal\"].str.len()\n",
        "df[\"word_count\"] = df[\"textOriginal\"].str.split().str.len()\n",
        "\n",
        "df[\"likeCount_x\"].describe()\n",
        "df.groupby(\"videoId\")[\"likeCount_x\"].mean().sort_values(ascending=False).head(10)\n",
        "\n",
        "df.plot.scatter(x=\"text_length\", y=\"likeCount_x\", alpha=0.3)"
      ]
    },
    {
      "cell_type": "code",
      "execution_count": null,
      "metadata": {
        "colab": {
          "base_uri": "https://localhost:8080/",
          "height": 482
        },
        "id": "tpTiImdUcP0Q",
        "outputId": "90df9ec2-850c-497c-a379-6f7cd6dedf1f"
      },
      "outputs": [
        {
          "output_type": "execute_result",
          "data": {
            "text/plain": [
              "<Axes: xlabel='text_length', ylabel='likeCount_y'>"
            ]
          },
          "metadata": {},
          "execution_count": 16
        },
        {
          "output_type": "display_data",
          "data": {
            "text/plain": [
              "<Figure size 640x480 with 1 Axes>"
            ],
            "image/png": "[encoded data removed]"
          },
          "metadata": {}
        }
      ],
      "source": [
        "# engagement analysis\n",
        "df[\"text_length\"] = df[\"textOriginal\"].str.len()\n",
        "df[\"word_count\"] = df[\"textOriginal\"].str.split().str.len()\n",
        "\n",
        "df[\"likeCount_y\"].describe()\n",
        "df.groupby(\"videoId\")[\"likeCount_y\"].mean().sort_values(ascending=False).head(10)\n",
        "\n",
        "df.plot.scatter(x=\"text_length\", y=\"likeCount_y\", alpha=0.3)"
      ]
    },
    {
      "cell_type": "code",
      "execution_count": null,
      "metadata": {
        "colab": {
          "base_uri": "https://localhost:8080/"
        },
        "id": "gk2iYCzExZNn",
        "outputId": "26919290-21ca-494e-d534-e81cf512f412"
      },
      "outputs": [
        {
          "output_type": "stream",
          "name": "stdout",
          "text": [
            "Top words: [('i', 234000), ('you', 200471), ('the', 173412), ('and', 137413), ('is', 125953), ('a', 123346), ('it', 119622), ('to', 117987), ('so', 96043), ('that', 78972), ('s', 71525), ('are', 68587), ('your', 67410), ('like', 67074), ('my', 66146), ('of', 63871), ('she', 62109), ('hair', 61767), ('t', 61759), ('beautiful', 61074)]\n"
          ]
        }
      ],
      "source": [
        "# text analysis\n",
        "from collections import Counter\n",
        "import re\n",
        "\n",
        "all_words = \" \".join(df[\"textOriginal\"].dropna().str.lower())\n",
        "words = re.findall(r\"\\b\\w+\\b\", all_words)\n",
        "common_words = Counter(words).most_common(20)\n",
        "\n",
        "print(\"Top words:\", common_words)\n",
        "\n",
        "# identify most common words after removing stopwords\n",
        "# common keywords: beautiful / she / hair / ..."
      ]
    },
    {
      "cell_type": "code",
      "execution_count": null,
      "metadata": {
        "id": "Z7xv25fv1eKv"
      },
      "outputs": [],
      "source": [
        "# spam / anomaly detection\n",
        "spammy_users = df.groupby(\"authorId\")[\"commentId\"].count().sort_values(ascending=False).head(10)\n",
        "duplicate_comments = df[\"textOriginal\"].value_counts().head(10)\n",
        "\n",
        "# identify spam users (users posting too many comments in a short time)\n",
        "# identify the duplicate/identical comments"
      ]
    },
    {
      "cell_type": "code",
      "execution_count": null,
      "metadata": {
        "colab": {
          "base_uri": "https://localhost:8080/",
          "height": 429
        },
        "id": "3mYO7SB13dr0",
        "outputId": "76c55eea-41bb-4157-d2ff-c7bfff27a9bd"
      },
      "outputs": [
        {
          "output_type": "execute_result",
          "data": {
            "text/plain": [
              "authorId\n",
              "773251     2357\n",
              "1064907    1293\n",
              "1547846    1062\n",
              "3525391     961\n",
              "2121022     779\n",
              "1308424     691\n",
              "1859623     496\n",
              "3381069     406\n",
              "2567639     336\n",
              "633275      320\n",
              "Name: commentId, dtype: int64"
            ],
            "text/html": [
              "<div>\n",
              "<style scoped>\n",
              "    .dataframe tbody tr th:only-of-type {\n",
              "        vertical-align: middle;\n",
              "    }\n",
              "\n",
              "    .dataframe tbody tr th {\n",
              "        vertical-align: top;\n",
              "    }\n",
              "\n",
              "    .dataframe thead th {\n",
              "        text-align: right;\n",
              "    }\n",
              "</style>\n",
              "<table border=\"1\" class=\"dataframe\">\n",
              "  <thead>\n",
              "    <tr style=\"text-align: right;\">\n",
              "      <th></th>\n",
              "      <th>commentId</th>\n",
              "    </tr>\n",
              "    <tr>\n",
              "      <th>authorId</th>\n",
              "      <th></th>\n",
              "    </tr>\n",
              "  </thead>\n",
              "  <tbody>\n",
              "    <tr>\n",
              "      <th>773251</th>\n",
              "      <td>2357</td>\n",
              "    </tr>\n",
              "    <tr>\n",
              "      <th>1064907</th>\n",
              "      <td>1293</td>\n",
              "    </tr>\n",
              "    <tr>\n",
              "      <th>1547846</th>\n",
              "      <td>1062</td>\n",
              "    </tr>\n",
              "    <tr>\n",
              "      <th>3525391</th>\n",
              "      <td>961</td>\n",
              "    </tr>\n",
              "    <tr>\n",
              "      <th>2121022</th>\n",
              "      <td>779</td>\n",
              "    </tr>\n",
              "    <tr>\n",
              "      <th>1308424</th>\n",
              "      <td>691</td>\n",
              "    </tr>\n",
              "    <tr>\n",
              "      <th>1859623</th>\n",
              "      <td>496</td>\n",
              "    </tr>\n",
              "    <tr>\n",
              "      <th>3381069</th>\n",
              "      <td>406</td>\n",
              "    </tr>\n",
              "    <tr>\n",
              "      <th>2567639</th>\n",
              "      <td>336</td>\n",
              "    </tr>\n",
              "    <tr>\n",
              "      <th>633275</th>\n",
              "      <td>320</td>\n",
              "    </tr>\n",
              "  </tbody>\n",
              "</table>\n",
              "</div><br><label><b>dtype:</b> int64</label>"
            ]
          },
          "metadata": {},
          "execution_count": 19
        }
      ],
      "source": [
        "spammy_users"
      ]
    },
    {
      "cell_type": "code",
      "execution_count": null,
      "metadata": {
        "colab": {
          "base_uri": "https://localhost:8080/",
          "height": 429
        },
        "id": "OBGVQCsS3sj4",
        "outputId": "ec5b24e1-dab8-444d-d871-bc907ccdffc5"
      },
      "outputs": [
        {
          "output_type": "execute_result",
          "data": {
            "text/plain": [
              "textOriginal\n",
              "❤            3334\n",
              "India        2533\n",
              "❤❤❤          2218\n",
              "Nice         1850\n",
              "❤❤           1770\n",
              "Indian       1749\n",
              "Wow          1662\n",
              "Beautiful    1525\n",
              "❤❤❤❤         1330\n",
              "Night        1312\n",
              "Name: count, dtype: int64"
            ],
            "text/html": [
              "<div>\n",
              "<style scoped>\n",
              "    .dataframe tbody tr th:only-of-type {\n",
              "        vertical-align: middle;\n",
              "    }\n",
              "\n",
              "    .dataframe tbody tr th {\n",
              "        vertical-align: top;\n",
              "    }\n",
              "\n",
              "    .dataframe thead th {\n",
              "        text-align: right;\n",
              "    }\n",
              "</style>\n",
              "<table border=\"1\" class=\"dataframe\">\n",
              "  <thead>\n",
              "    <tr style=\"text-align: right;\">\n",
              "      <th></th>\n",
              "      <th>count</th>\n",
              "    </tr>\n",
              "    <tr>\n",
              "      <th>textOriginal</th>\n",
              "      <th></th>\n",
              "    </tr>\n",
              "  </thead>\n",
              "  <tbody>\n",
              "    <tr>\n",
              "      <th>❤</th>\n",
              "      <td>3334</td>\n",
              "    </tr>\n",
              "    <tr>\n",
              "      <th>India</th>\n",
              "      <td>2533</td>\n",
              "    </tr>\n",
              "    <tr>\n",
              "      <th>❤❤❤</th>\n",
              "      <td>2218</td>\n",
              "    </tr>\n",
              "    <tr>\n",
              "      <th>Nice</th>\n",
              "      <td>1850</td>\n",
              "    </tr>\n",
              "    <tr>\n",
              "      <th>❤❤</th>\n",
              "      <td>1770</td>\n",
              "    </tr>\n",
              "    <tr>\n",
              "      <th>Indian</th>\n",
              "      <td>1749</td>\n",
              "    </tr>\n",
              "    <tr>\n",
              "      <th>Wow</th>\n",
              "      <td>1662</td>\n",
              "    </tr>\n",
              "    <tr>\n",
              "      <th>Beautiful</th>\n",
              "      <td>1525</td>\n",
              "    </tr>\n",
              "    <tr>\n",
              "      <th>❤❤❤❤</th>\n",
              "      <td>1330</td>\n",
              "    </tr>\n",
              "    <tr>\n",
              "      <th>Night</th>\n",
              "      <td>1312</td>\n",
              "    </tr>\n",
              "  </tbody>\n",
              "</table>\n",
              "</div><br><label><b>dtype:</b> int64</label>"
            ]
          },
          "metadata": {},
          "execution_count": 20
        }
      ],
      "source": [
        "duplicate_comments"
      ]
    },
    {
      "cell_type": "markdown",
      "metadata": {
        "id": "knCm2qB84Qp-"
      },
      "source": [
        "# **Feature Engineering**"
      ]
    },
    {
      "cell_type": "code",
      "execution_count": null,
      "metadata": {
        "colab": {
          "base_uri": "https://localhost:8080/"
        },
        "id": "rY6acEiP4XSm",
        "outputId": "926857ba-0b24-4bc4-9c6c-0637607e9b38"
      },
      "outputs": [
        {
          "output_type": "stream",
          "name": "stdout",
          "text": [
            "Requirement already satisfied: emoji in /usr/local/lib/python3.12/dist-packages (2.14.1)\n"
          ]
        }
      ],
      "source": [
        "# install emoji\n",
        "!pip install emoji"
      ]
    },
    {
      "cell_type": "code",
      "execution_count": null,
      "metadata": {
        "id": "M68gUdTt3tjC"
      },
      "outputs": [],
      "source": [
        "from textblob import TextBlob\n",
        "import emoji\n",
        "\n",
        "def feature_engineering(df):\n",
        "    # Textual Features\n",
        "    df[\"char_count\"] = df[\"textOriginal\"].astype(str).apply(len)\n",
        "    df[\"word_count\"] = df[\"textOriginal\"].astype(str).apply(lambda x: len(x.split()))\n",
        "    df[\"avg_word_length\"] = df[\"char_count\"] / (df[\"word_count\"] + 1)\n",
        "    df[\"uppercase_ratio\"] = df[\"textOriginal\"].astype(str).apply(lambda x: sum(1 for c in x if c.isupper())/len(x) if len(x)>0 else 0)\n",
        "    df[\"punctuation_count\"] = df[\"textOriginal\"].astype(str).apply(lambda x: len(re.findall(r\"[!?]\", x)))\n",
        "    df[\"emoji_count\"] = df[\"textOriginal\"].astype(str).apply(lambda x: len([c for c in x if c in emoji.EMOJI_DATA]))\n",
        "    df[\"duplicate_flag\"] = df.duplicated(subset=[\"textOriginal\"]).astype(int)\n",
        "\n",
        "    # Sentiment Features\n",
        "    df[\"sentiment_polarity\"] = df[\"textOriginal\"].astype(str).apply(lambda x: TextBlob(x).sentiment.polarity)\n",
        "    df[\"sentiment_subjectivity\"] = df[\"textOriginal\"].astype(str).apply(lambda x: TextBlob(x).sentiment.subjectivity)\n",
        "\n",
        "    # Engagement Features\n",
        "    df[\"log_likes\"] = np.log1p(df[\"likeCount_x\"])\n",
        "    df[\"has_likes\"] = (df[\"likeCount_x\"] > 0).astype(int)\n",
        "    df[\"log_likes\"] = np.log1p(df[\"likeCount_y\"])\n",
        "    df[\"has_likes\"] = (df[\"likeCount_y\"] > 0).astype(int)\n",
        "\n",
        "    # User Features\n",
        "    df[\"author_comment_count\"] = df.groupby(\"authorId\")[\"commentId\"].transform(\"count\")\n",
        "    df[\"avg_likes_per_author\"] = df.groupby(\"authorId\")[\"likeCount_x\"].transform(\"mean\")\n",
        "    df[\"avg_likes_per_author\"] = df.groupby(\"authorId\")[\"likeCount_y\"].transform(\"mean\")\n",
        "\n",
        "    return df"
      ]
    },
    {
      "cell_type": "markdown",
      "metadata": {
        "id": "kJA3UGPg5LAW"
      },
      "source": [
        "# **Model Training**"
      ]
    },
    {
      "cell_type": "code",
      "execution_count": null,
      "metadata": {
        "id": "zMsO-DKP4zFx"
      },
      "outputs": [],
      "source": [
        "from sklearn.model_selection import train_test_split, StratifiedKFold, cross_val_score\n",
        "from sklearn.preprocessing import StandardScaler\n",
        "from sklearn.linear_model import LogisticRegression\n",
        "from sklearn.ensemble import RandomForestClassifier\n",
        "from xgboost import XGBClassifier\n",
        "from sklearn.metrics import classification_report, roc_auc_score\n",
        "import re"
      ]
    },
    {
      "cell_type": "markdown",
      "metadata": {
        "id": "S6HeoS7a5QY2"
      },
      "source": [
        "## Data Splitting"
      ]
    },
    {
      "cell_type": "code",
      "execution_count": null,
      "metadata": {
        "id": "CS7iBHHb5bBm"
      },
      "outputs": [],
      "source": [
        "df = feature_engineering(df)"
      ]
    },
    {
      "cell_type": "code",
      "execution_count": null,
      "metadata": {
        "id": "iqLLUtiTNg2h"
      },
      "outputs": [],
      "source": [
        "# spam detection\n",
        "def label_spam(comment):\n",
        "    text = comment.lower()\n",
        "    if re.search(r\"http|www|\\.com|\\.net|\\.org\", text):\n",
        "        return 1\n",
        "\n",
        "    promo_keywords = [\"subscribe\", \"buy\", \"check my channel\", \"follow me\", \"sale\", \"discount\", \"free\", \"offer\", \"click\"]\n",
        "    if any(word in text for word in promo_keywords):\n",
        "        return 1\n",
        "    if len(re.findall(r'[!?.]{3,}', text)) > 0:  # excessive punctuation\n",
        "        return 1\n",
        "\n",
        "    if re.search(r\"(.)\\1{4,}\", text):  # e.g., !!!!!, hhhhhh\n",
        "        return 1\n",
        "\n",
        "    if len(re.findall(r\"[😀-🙏-❤]\", text)) > 5:\n",
        "        return 1\n",
        "\n",
        "    if len(text.split()) <= 2:\n",
        "        return 1\n",
        "\n",
        "    return 0\n",
        "\n",
        "df['spam'] = df['textOriginal'].apply(label_spam)\n",
        "df['spam'] = df['title'].apply(label_spam)"
      ]
    },
    {
      "cell_type": "code",
      "execution_count": null,
      "metadata": {
        "id": "wEXvMr4fUscw"
      },
      "outputs": [],
      "source": [
        "categories = {\n",
        "    \"skincare\": [\n",
        "    \"cream\", \"lotion\", \"moisturizer\", \"skin\", \"hydration\",\n",
        "    \"serum\", \"toner\", \"cleanser\", \"sunscreen\", \"spf\",\n",
        "    \"acne\", \"pimple\", \"wrinkle\", \"anti-aging\", \"mask\",\n",
        "    \"exfoliate\", \"scrub\", \"facewash\", \"oil\", \"essence\"\n",
        "    ],\n",
        "\n",
        "    \"fragrance\": [\n",
        "    \"perfume\", \"scent\", \"smell\", \"fragrance\",\n",
        "    \"cologne\", \"aroma\", \"eau de parfum\", \"eau de toilette\",\n",
        "    \"notes\", \"fresh\", \"floral\", \"woody\", \"musky\", \"citrus\"\n",
        "    ],\n",
        "\n",
        "    \"makeup\": [\n",
        "    \"lipstick\", \"foundation\", \"eyeliner\", \"blush\", \"makeup\",\n",
        "    \"concealer\", \"mascara\", \"powder\", \"primer\", \"contour\",\n",
        "    \"highlight\", \"palette\", \"bronzer\", \"shadow\", \"brows\",\n",
        "    \"lip gloss\", \"setting spray\"\n",
        "    ]\n",
        "}\n",
        "\n",
        "def categorize(comment):\n",
        "    for cat, keywords in categories.items():\n",
        "        if any(word in comment for word in keywords):\n",
        "            return cat\n",
        "    return \"other\"\n",
        "\n",
        "df[\"category\"] = df['textOriginal'].apply(categorize)\n",
        "df[\"category\"] = df['title'].apply(categorize)"
      ]
    },
    {
      "cell_type": "code",
      "execution_count": null,
      "metadata": {
        "id": "o6LnIBg2Uh8X"
      },
      "outputs": [],
      "source": [
        "# sentiment detection\n",
        "def get_sentiment(comment):\n",
        "    polarity = TextBlob(comment).sentiment.polarity\n",
        "    if polarity > 0.05:\n",
        "        return \"positive\"\n",
        "    elif polarity < -0.05:\n",
        "        return \"negative\"\n",
        "    else:\n",
        "        return \"neutral\"\n",
        "\n",
        "df[\"sentiment\"] = df['textOriginal'].apply(get_sentiment)\n",
        "df[\"sentiment\"] = df['title'].apply(get_sentiment)"
      ]
    },
    {
      "cell_type": "code",
      "execution_count": null,
      "metadata": {
        "colab": {
          "base_uri": "https://localhost:8080/"
        },
        "id": "OOIHgyknUuxc",
        "outputId": "0759f41b-2319-4c6b-c03e-6120c969ac22"
      },
      "outputs": [
        {
          "output_type": "stream",
          "name": "stdout",
          "text": [
            "Quality Comment Ratio: 10.54%\n"
          ]
        }
      ],
      "source": [
        "def is_quality(row):\n",
        "    # Quality = Not Spam + Relevant Category + Has Sentiment\n",
        "    if row[\"spam\"] == 1:\n",
        "        return 0\n",
        "    if row[\"category\"] == \"other\":\n",
        "        return 0\n",
        "    if row[\"sentiment\"] == \"neutral\":\n",
        "        return 0\n",
        "    return 1\n",
        "\n",
        "df[\"quality\"] = df.apply(is_quality, axis=1)\n",
        "\n",
        "# KPI\n",
        "quality_ratio = df[\"quality\"].mean()\n",
        "print(f\"Quality Comment Ratio: {quality_ratio:.2%}\")\n"
      ]
    },
    {
      "cell_type": "code",
      "execution_count": null,
      "metadata": {
        "colab": {
          "base_uri": "https://localhost:8080/"
        },
        "id": "gK99tikCU9os",
        "outputId": "a66b841b-b1f4-46f7-8f72-3dd55b122888"
      },
      "outputs": [
        {
          "output_type": "stream",
          "name": "stdout",
          "text": [
            "    category   quality\n",
            "0  fragrance  0.628606\n",
            "1     makeup  0.289915\n",
            "2      other  0.000000\n",
            "3   skincare  0.382347\n",
            "\n",
            "            kind_x  commentId  channelId_x  videoId  authorId  \\\n",
            "0  youtube#comment    1781382        14492    74288   2032536   \n",
            "1  youtube#comment     289571        14727    79618   3043229   \n",
            "2  youtube#comment     569077         3314    51826    917006   \n",
            "3  youtube#comment    2957962         5008    58298   1853470   \n",
            "4  youtube#comment     673093        21411     1265   2584166   \n",
            "\n",
            "                                        textOriginal  parentCommentId  \\\n",
            "0  PLEASE LESBIAN FLAG I BEG YOU \\n\\nYou would ro...              NaN   \n",
            "1   Apply mashed potato juice and mixed it with curd        3198066.0   \n",
            "2                         69 missed calls from mars👽              NaN   \n",
            "3                                               Baaa              NaN   \n",
            "4    you look like raven from phenomena raven no cap              NaN   \n",
            "\n",
            "   likeCount_x             publishedAt_x                 updatedAt  ...  \\\n",
            "0            0 2023-08-15 21:48:52+00:00 2023-08-15 21:48:52+00:00  ...   \n",
            "1            0 2023-10-02 13:08:22+00:00 2023-10-02 13:08:22+00:00  ...   \n",
            "2            0 2024-05-31 12:03:12+00:00 2024-05-31 12:03:12+00:00  ...   \n",
            "3            0 2024-02-13 15:48:37+00:00 2024-02-13 15:48:37+00:00  ...   \n",
            "4            0 2020-02-15 22:28:44+00:00 2020-02-15 22:28:44+00:00  ...   \n",
            "\n",
            "  sentiment_polarity sentiment_subjectivity  log_likes has_likes  \\\n",
            "0                0.0                   0.00  12.637605         1   \n",
            "1                0.0                   0.25  10.915888         1   \n",
            "2                0.0                   0.00  12.656371         1   \n",
            "3                0.0                   0.00   9.336973         1   \n",
            "4                0.0                   0.00  13.131012         1   \n",
            "\n",
            "  author_comment_count avg_likes_per_author spam category sentiment  quality  \n",
            "0                    1             307922.0    0    other   neutral        0  \n",
            "1                    2              55043.0    0    other   neutral        0  \n",
            "2                    1             313755.0    0    other  negative        0  \n",
            "3                    1              11349.0    0   makeup   neutral        0  \n",
            "4                    1             504342.0    0    other  negative        0  \n",
            "\n",
            "[5 rows x 45 columns]\n"
          ]
        }
      ],
      "source": [
        "summary = df.groupby(\"category\")[\"quality\"].mean().reset_index()\n",
        "print(summary)\n",
        "\n",
        "print()\n",
        "print(df.head())\n"
      ]
    },
    {
      "cell_type": "code",
      "execution_count": null,
      "metadata": {
        "colab": {
          "base_uri": "https://localhost:8080/",
          "height": 1000
        },
        "id": "GNvaqMnnVHqf",
        "outputId": "09c0b3a8-33b8-46cb-a24d-44e43e55308d"
      },
      "outputs": [
        {
          "output_type": "stream",
          "name": "stderr",
          "text": [
            "/tmp/ipython-input-2785933698.py:3: FutureWarning: \n",
            "\n",
            "Passing `palette` without assigning `hue` is deprecated and will be removed in v0.14.0. Assign the `x` variable to `hue` and set `legend=False` for the same effect.\n",
            "\n",
            "  sns.countplot(x=\"sentiment\", data=df, order=[\"positive\",\"negative\",\"neutral\"], palette=\"viridis\")\n"
          ]
        },
        {
          "output_type": "display_data",
          "data": {
            "text/plain": [
              "<Figure size 600x400 with 1 Axes>"
            ],
            "image/png": "[encoded data removed]"
          },
          "metadata": {}
        },
        {
          "output_type": "stream",
          "name": "stderr",
          "text": [
            "/tmp/ipython-input-2785933698.py:12: FutureWarning: \n",
            "\n",
            "Passing `palette` without assigning `hue` is deprecated and will be removed in v0.14.0. Assign the `x` variable to `hue` and set `legend=False` for the same effect.\n",
            "\n",
            "  sns.barplot(x=spam_counts.index.map({0:\"Not Spam\",1:\"Spam\"}), y=spam_counts.values, palette=\"muted\")\n"
          ]
        },
        {
          "output_type": "display_data",
          "data": {
            "text/plain": [
              "<Figure size 500x400 with 1 Axes>"
            ],
            "image/png": "[encoded data removed]"
          },
          "metadata": {}
        },
        {
          "output_type": "stream",
          "name": "stderr",
          "text": [
            "/tmp/ipython-input-2785933698.py:19: FutureWarning: \n",
            "\n",
            "Passing `palette` without assigning `hue` is deprecated and will be removed in v0.14.0. Assign the `x` variable to `hue` and set `legend=False` for the same effect.\n",
            "\n",
            "  sns.countplot(x=\"category\", data=df, palette=\"Set2\", order=df[\"category\"].value_counts().index)\n"
          ]
        },
        {
          "output_type": "display_data",
          "data": {
            "text/plain": [
              "<Figure size 600x400 with 1 Axes>"
            ],
            "image/png": "[encoded data removed]"
          },
          "metadata": {}
        },
        {
          "output_type": "stream",
          "name": "stderr",
          "text": [
            "/tmp/ipython-input-2785933698.py:27: FutureWarning: \n",
            "\n",
            "Passing `palette` without assigning `hue` is deprecated and will be removed in v0.14.0. Assign the `x` variable to `hue` and set `legend=False` for the same effect.\n",
            "\n",
            "  sns.barplot(x=\"category\", y=\"quality\", data=quality_by_cat, palette=\"coolwarm\")\n"
          ]
        },
        {
          "output_type": "display_data",
          "data": {
            "text/plain": [
              "<Figure size 600x400 with 1 Axes>"
            ],
            "image/png": "[encoded data removed]"
          },
          "metadata": {}
        }
      ],
      "source": [
        "# Sentiment distribution\n",
        "plt.figure(figsize=(6,4))\n",
        "sns.countplot(x=\"sentiment\", data=df, order=[\"positive\",\"negative\",\"neutral\"], palette=\"viridis\")\n",
        "plt.title(\"Sentiment Distribution\")\n",
        "plt.xlabel(\"Sentiment\")\n",
        "plt.ylabel(\"Count\")\n",
        "plt.show()\n",
        "\n",
        "# Spam ratio\n",
        "plt.figure(figsize=(5,4))\n",
        "spam_counts = df[\"spam\"].value_counts(normalize=True) * 100\n",
        "sns.barplot(x=spam_counts.index.map({0:\"Not Spam\",1:\"Spam\"}), y=spam_counts.values, palette=\"muted\")\n",
        "plt.title(\"Spam vs Non-Spam (%)\")\n",
        "plt.ylabel(\"Percentage\")\n",
        "plt.show()\n",
        "\n",
        "# Category distribution\n",
        "plt.figure(figsize=(6,4))\n",
        "sns.countplot(x=\"category\", data=df, palette=\"Set2\", order=df[\"category\"].value_counts().index)\n",
        "plt.title(\"Comments by Category\")\n",
        "plt.ylabel(\"Count\")\n",
        "plt.show()\n",
        "\n",
        "# Quality by category\n",
        "plt.figure(figsize=(6,4))\n",
        "quality_by_cat = df.groupby(\"category\")[\"quality\"].mean().reset_index()\n",
        "sns.barplot(x=\"category\", y=\"quality\", data=quality_by_cat, palette=\"coolwarm\")\n",
        "plt.title(\"Quality Ratio by Category\")\n",
        "plt.ylabel(\"Quality Ratio\")\n",
        "plt.ylim(0,1)\n",
        "plt.show()\n"
      ]
    },
    {
      "cell_type": "code",
      "execution_count": null,
      "metadata": {
        "id": "w_PfYX4H4--A"
      },
      "outputs": [],
      "source": [
        "target = \"quality\"\n",
        "drop_cols = [\"kind_x\", \"kind_y\", \"textOriginal\", \"authorId\", \"commentId\", \"publishedAt_x\",\n",
        "             \"publishedAt_y\", \"updatedAt\", \"sentiment\", \"category\", \"parentCommentId\", \"topicCategories\",\n",
        "             \"tags\", \"title\", \"description\", \"defaultLanguage\", \"defaultAudioLanguage\", \"contentDuration\"]  # non-numeric or IDs\n",
        "\n",
        "X = df.drop(columns=drop_cols + [target], errors=\"ignore\")\n",
        "y = df[target]"
      ]
    },
    {
      "cell_type": "code",
      "execution_count": null,
      "metadata": {
        "id": "hanRdt1x5Ium"
      },
      "outputs": [],
      "source": [
        "from sklearn.model_selection import train_test_split\n",
        "\n",
        "# split off the 20% test set\n",
        "X_temp, X_test, y_temp, y_test = train_test_split(\n",
        "    X, y, test_size=0.2, stratify=y, random_state=42\n",
        ")\n",
        "\n",
        "# split the remaining 80% into 60% train & 20% validate\n",
        "X_train, X_val, y_train, y_val = train_test_split(\n",
        "    X_temp, y_temp, test_size=0.25, stratify=y_temp, random_state=42\n",
        ")"
      ]
    },
    {
      "cell_type": "code",
      "execution_count": null,
      "metadata": {
        "colab": {
          "base_uri": "https://localhost:8080/"
        },
        "id": "coaJo6dh6fkH",
        "outputId": "b6cc8504-a58a-4eae-d559-10d2650ab8ba"
      },
      "outputs": [
        {
          "output_type": "stream",
          "name": "stdout",
          "text": [
            "Train shape: (567569, 26)\n",
            "Val shape: (189190, 26)\n",
            "Test shape: (189190, 26)\n"
          ]
        }
      ],
      "source": [
        "print(\"Train shape:\", X_train.shape)\n",
        "print(\"Val shape:\", X_val.shape)\n",
        "print(\"Test shape:\", X_test.shape)"
      ]
    },
    {
      "cell_type": "markdown",
      "metadata": {
        "id": "ESBFF0Ee6SCU"
      },
      "source": [
        "## Standardization"
      ]
    },
    {
      "cell_type": "code",
      "execution_count": null,
      "metadata": {
        "id": "Ytp2y5e75tHe"
      },
      "outputs": [],
      "source": [
        "from sklearn.preprocessing import StandardScaler\n",
        "\n",
        "scaler = StandardScaler()\n",
        "X_train_scaled = scaler.fit_transform(X_train)\n",
        "X_val_scaled   = scaler.transform(X_val)\n",
        "X_test_scaled  = scaler.transform(X_test)"
      ]
    },
    {
      "cell_type": "markdown",
      "metadata": {
        "id": "86Z7C1_U73tA"
      },
      "source": [
        "## Train multiple models"
      ]
    },
    {
      "cell_type": "code",
      "execution_count": null,
      "metadata": {
        "id": "Go512DOr8qTT"
      },
      "outputs": [],
      "source": [
        "from sklearn.linear_model import LogisticRegression\n",
        "from sklearn.ensemble import RandomForestClassifier\n",
        "from xgboost import XGBClassifier\n",
        "from sklearn.neural_network import MLPClassifier\n",
        "from sklearn.metrics import accuracy_score, f1_score, roc_auc_score, classification_report"
      ]
    },
    {
      "cell_type": "code",
      "execution_count": null,
      "metadata": {
        "id": "81PBmzw48GHy"
      },
      "outputs": [],
      "source": [
        "models = {\n",
        "    \"Logistic Regression\": LogisticRegression(max_iter=500, random_state=42),\n",
        "    \"Random Forest\": RandomForestClassifier(n_estimators=200, random_state=42),\n",
        "    \"XGBoost\": XGBClassifier(use_label_encoder=False, eval_metric=\"logloss\", random_state=42),\n",
        "    \"Neural Network\": MLPClassifier(hidden_layer_sizes=(64,32), max_iter=500, random_state=42)\n",
        "}"
      ]
    },
    {
      "cell_type": "code",
      "execution_count": null,
      "metadata": {
        "colab": {
          "base_uri": "https://localhost:8080/"
        },
        "id": "l8eJmJ0YOYIi",
        "outputId": "41b90891-66d0-4154-e839-2e6a157b3024"
      },
      "outputs": [
        {
          "output_type": "stream",
          "name": "stdout",
          "text": [
            "channelId_x               0\n",
            "videoId                   0\n",
            "likeCount_x               0\n",
            "channelId_y               0\n",
            "viewCount                 0\n",
            "likeCount_y               0\n",
            "commentCount              0\n",
            "log_viewCount             0\n",
            "log_likeCount_y           0\n",
            "log_commentCount          0\n",
            "comment_length            0\n",
            "word_count                0\n",
            "text_length               0\n",
            "char_count                0\n",
            "avg_word_length           0\n",
            "uppercase_ratio           0\n",
            "punctuation_count         0\n",
            "emoji_count               0\n",
            "duplicate_flag            0\n",
            "sentiment_polarity        0\n",
            "sentiment_subjectivity    0\n",
            "log_likes                 0\n",
            "has_likes                 0\n",
            "author_comment_count      0\n",
            "avg_likes_per_author      0\n",
            "spam                      0\n",
            "dtype: int64\n"
          ]
        }
      ],
      "source": [
        "print(X_train.isnull().sum())"
      ]
    },
    {
      "cell_type": "code",
      "execution_count": null,
      "metadata": {
        "id": "OsUIobYB8Hba"
      },
      "outputs": [],
      "source": [
        "# train models and evaluate on validation set\n",
        "results = {}\n",
        "for name, model in models.items():\n",
        "    model.fit(X_train_scaled, y_train)\n",
        "    y_val_pred = model.predict(X_val_scaled)\n",
        "    y_val_proba = model.predict_proba(X_val_scaled)[:,1]\n",
        "\n",
        "    results[name] = {\n",
        "        \"Accuracy\": accuracy_score(y_val, y_val_pred),\n",
        "        \"F1\": f1_score(y_val, y_val_pred),\n",
        "        \"ROC AUC\": roc_auc_score(y_val, y_val_proba)\n",
        "    }\n",
        "\n",
        "results_df = pd.DataFrame(results).T.sort_values(by=\"ROC AUC\", ascending=False)\n",
        "print(\"\\nValidation Performance:\")\n",
        "print(results_df)"
      ]
    },
    {
      "cell_type": "code",
      "execution_count": null,
      "metadata": {
        "id": "ZCV2r5AR8TCJ"
      },
      "outputs": [],
      "source": [
        "# identify the best model\n",
        "best_model_name = results_df.index[0]\n",
        "best_model = models[best_model_name]\n",
        "\n",
        "print(f\"Best Model: {best_model_name}\")\n",
        "y_test_pred = best_model.predict(X_test_scaled)\n",
        "y_test_proba = best_model.predict_proba(X_test_scaled)[:,1]\n",
        "\n",
        "print(\"\\nFinal Test Performance:\")\n",
        "print(classification_report(y_test, y_test_pred))\n",
        "print(\"ROC AUC (Test):\", roc_auc_score(y_test, y_test_proba))"
      ]
    },
    {
      "cell_type": "markdown",
      "metadata": {
        "id": "lyrm8yWy8Y9c"
      },
      "source": [
        "# **Deployment**"
      ]
    },
    {
      "cell_type": "code",
      "execution_count": null,
      "metadata": {
        "id": "9fVyCumW8b8q"
      },
      "outputs": [],
      "source": [
        "import joblib\n",
        "\n",
        "joblib.dump(best_model, \"best_diabetes_model.joblib\")\n",
        "print(f\"Best model pipeline saved as 'best_diabetes_model.joblib'\")"
      ]
    },
    {
      "cell_type": "code",
      "execution_count": null,
      "metadata": {
        "id": "StM4_Tx9P4A9"
      },
      "outputs": [],
      "source": []
    }
  ],
  "metadata": {
    "colab": {
      "provenance": [],
      "authorship_tag": "ABX9TyM5eiSBSN4NrsDxxRj/FqCk",
      "include_colab_link": true
    },
    "kernelspec": {
      "display_name": "Python 3",
      "name": "python3"
    },
    "language_info": {
      "name": "python"
    }
  },
  "nbformat": 4,
  "nbformat_minor": 0
}